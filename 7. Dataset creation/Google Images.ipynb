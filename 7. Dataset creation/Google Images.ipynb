{
 "cells": [
  {
   "cell_type": "markdown",
   "metadata": {
    "colab_type": "text",
    "id": "DwTZya1Yu-K1"
   },
   "source": [
    "# Install packages"
   ]
  },
  {
   "cell_type": "code",
   "execution_count": 4,
   "metadata": {
    "colab": {
     "base_uri": "https://localhost:8080/",
     "height": 326
    },
    "colab_type": "code",
    "executionInfo": {
     "elapsed": 9968,
     "status": "ok",
     "timestamp": 1568027688919,
     "user": {
      "displayName": "Francisco Javier Abellán Abenza",
      "photoUrl": "https://lh3.googleusercontent.com/a-/AAuE7mBXDJhrhy5v46WYA3pQx0xPCOndKhLnmA-PO0M_TQ=s64",
      "userId": "17171142240935309436"
     },
     "user_tz": -120
    },
    "id": "lHmbfEbPscCB",
    "outputId": "3c03e2e2-d66f-496d-d657-5433225e084c"
   },
   "outputs": [
    {
     "name": "stdout",
     "output_type": "stream",
     "text": [
      "Requirement already up-to-date: google_images_download in /anaconda3/lib/python3.7/site-packages (2.8.0)\n",
      "Requirement already satisfied, skipping upgrade: selenium in /anaconda3/lib/python3.7/site-packages (from google_images_download) (3.141.0)\n",
      "Requirement already satisfied, skipping upgrade: urllib3 in /anaconda3/lib/python3.7/site-packages (from selenium->google_images_download) (1.24.1)\n",
      "Requirement already satisfied: split-folders in /anaconda3/lib/python3.7/site-packages (0.3.1)\n"
     ]
    }
   ],
   "source": [
    "!pip install -U google_images_download\n",
    "!pip install split-folders"
   ]
  },
  {
   "cell_type": "markdown",
   "metadata": {
    "colab_type": "text",
    "id": "b432jJgIvEx9"
   },
   "source": [
    "# Import packages"
   ]
  },
  {
   "cell_type": "code",
   "execution_count": 5,
   "metadata": {
    "colab": {},
    "colab_type": "code",
    "id": "kxmuVaikuhLX"
   },
   "outputs": [],
   "source": [
    "from google_images_download import google_images_download\n",
    "import split_folders"
   ]
  },
  {
   "cell_type": "markdown",
   "metadata": {
    "colab_type": "text",
    "id": "WqP-J_y-vJN0"
   },
   "source": [
    "# Download imgs from Google\n",
    "\n",
    "It generate something like this:\n",
    "\n",
    "- downloads/\n",
    "  - class1/\n",
    "    - img1.jpg\n",
    "    - img2.jpg\n",
    "    - ...\n",
    "  - class2/\n",
    "    - imgWhatever.jpg\n",
    "    - ...\n",
    "  - ..."
   ]
  },
  {
   "cell_type": "code",
   "execution_count": 7,
   "metadata": {
    "colab": {
     "base_uri": "https://localhost:8080/",
     "height": 1000
    },
    "colab_type": "code",
    "executionInfo": {
     "elapsed": 110498,
     "status": "ok",
     "timestamp": 1568028124295,
     "user": {
      "displayName": "Francisco Javier Abellán Abenza",
      "photoUrl": "https://lh3.googleusercontent.com/a-/AAuE7mBXDJhrhy5v46WYA3pQx0xPCOndKhLnmA-PO0M_TQ=s64",
      "userId": "17171142240935309436"
     },
     "user_tz": -120
    },
    "id": "1ASccqrquh1V",
    "outputId": "8cce3baa-e42e-410f-bfed-864b47530fec"
   },
   "outputs": [
    {
     "name": "stdout",
     "output_type": "stream",
     "text": [
      "\n",
      "Item no.: 1 --> Item name = Rabbit\n",
      "Evaluating...\n",
      "Starting Download...\n",
      "\n",
      "\n",
      "Unfortunately all 100 could not be downloaded because some images were not downloadable. 0 is all we got for this search filter!\n",
      "\n",
      "Errors: 0\n",
      "\n",
      "\n",
      "Item no.: 2 --> Item name = Racoon\n",
      "Evaluating...\n",
      "Starting Download...\n",
      "\n",
      "\n",
      "Unfortunately all 100 could not be downloaded because some images were not downloadable. 0 is all we got for this search filter!\n",
      "\n",
      "Errors: 0\n",
      "\n"
     ]
    }
   ],
   "source": [
    "classes   = \"Rabbit,Racoon\"   # Choose your clases to search in Google Images\n",
    "\n",
    "response  = google_images_download.googleimagesdownload()\n",
    "arguments = {\"keywords\":classes, \"limit\":100, \"print_urls\":False}\n",
    "paths     = response.download(arguments)"
   ]
  },
  {
   "cell_type": "markdown",
   "metadata": {
    "colab_type": "text",
    "id": "iMP-AP0KvQKT"
   },
   "source": [
    "# Split imgs into train (90%) and valid (10%)\n",
    "\n",
    "It generate something like this:\n",
    "\n",
    "- dataset/\n",
    "  - train/\n",
    "    - class1/\n",
    "      - img1.jpg\n",
    "      - ...\n",
    "    - class2/\n",
    "      - imga.jpg\n",
    "      - ...\n",
    "  - val/\n",
    "    - class1/\n",
    "      - img2.jpg\n",
    "      - ...\n",
    "    - class2/\n",
    "      - imgb.jpg\n",
    "      - ..."
   ]
  },
  {
   "cell_type": "code",
   "execution_count": 4,
   "metadata": {
    "colab": {
     "base_uri": "https://localhost:8080/",
     "height": 34
    },
    "colab_type": "code",
    "executionInfo": {
     "elapsed": 521,
     "status": "ok",
     "timestamp": 1568028251659,
     "user": {
      "displayName": "Francisco Javier Abellán Abenza",
      "photoUrl": "https://lh3.googleusercontent.com/a-/AAuE7mBXDJhrhy5v46WYA3pQx0xPCOndKhLnmA-PO0M_TQ=s64",
      "userId": "17171142240935309436"
     },
     "user_tz": -120
    },
    "id": "kd23yNOEvZeR",
    "outputId": "4fc82977-6cf3-4eb6-906f-93aa42d54728"
   },
   "outputs": [
    {
     "name": "stderr",
     "output_type": "stream",
     "text": [
      "Copying files: 179 files [00:00, 1430.84 files/s]\n"
     ]
    }
   ],
   "source": [
    "split_folders.ratio('downloads', output=\"dataset\", seed=0, ratio=(.9, .1))"
   ]
  },
  {
   "cell_type": "markdown",
   "metadata": {
    "colab_type": "text",
    "id": "LIYQUzkFxjM7"
   },
   "source": [
    "### Rename val to valid (Fast.ai requirement)"
   ]
  },
  {
   "cell_type": "code",
   "execution_count": 0,
   "metadata": {
    "colab": {},
    "colab_type": "code",
    "id": "Rlvly8AixK6d"
   },
   "outputs": [],
   "source": [
    "!mv dataset/val/ dataset/valid/"
   ]
  },
  {
   "cell_type": "markdown",
   "metadata": {
    "colab_type": "text",
    "id": "gwY1m9wExsvL"
   },
   "source": [
    "### Remove downloads (not neccesary enymore)"
   ]
  },
  {
   "cell_type": "code",
   "execution_count": 0,
   "metadata": {
    "colab": {},
    "colab_type": "code",
    "id": "MLka2MBwxqa0"
   },
   "outputs": [],
   "source": [
    "!rm -r downloads/"
   ]
  },
  {
   "cell_type": "markdown",
   "metadata": {
    "colab_type": "text",
    "id": "mUZg2tvJ2Qbd"
   },
   "source": [
    "# Connect to Google Drive"
   ]
  },
  {
   "cell_type": "code",
   "execution_count": 10,
   "metadata": {
    "colab": {
     "base_uri": "https://localhost:8080/",
     "height": 122
    },
    "colab_type": "code",
    "executionInfo": {
     "elapsed": 17803,
     "status": "ok",
     "timestamp": 1568028710147,
     "user": {
      "displayName": "Francisco Javier Abellán Abenza",
      "photoUrl": "https://lh3.googleusercontent.com/a-/AAuE7mBXDJhrhy5v46WYA3pQx0xPCOndKhLnmA-PO0M_TQ=s64",
      "userId": "17171142240935309436"
     },
     "user_tz": -120
    },
    "id": "Zx14q5JxytD2",
    "outputId": "eb92876b-2ef4-4f5d-995d-be0074e61b0d"
   },
   "outputs": [
    {
     "name": "stdout",
     "output_type": "stream",
     "text": [
      "Go to this URL in a browser: https://accounts.google.com/o/oauth2/auth?client_id=947318989803-6bn6qk8qdgf4n4g3pfee6491hc0brc4i.apps.googleusercontent.com&redirect_uri=urn%3Aietf%3Awg%3Aoauth%3A2.0%3Aoob&scope=email%20https%3A%2F%2Fwww.googleapis.com%2Fauth%2Fdocs.test%20https%3A%2F%2Fwww.googleapis.com%2Fauth%2Fdrive%20https%3A%2F%2Fwww.googleapis.com%2Fauth%2Fdrive.photos.readonly%20https%3A%2F%2Fwww.googleapis.com%2Fauth%2Fpeopleapi.readonly&response_type=code\n",
      "\n",
      "Enter your authorization code:\n",
      "··········\n",
      "Mounted at /content/drive\n"
     ]
    }
   ],
   "source": [
    "from google.colab import drive\n",
    "drive.mount('/content/drive')"
   ]
  },
  {
   "cell_type": "markdown",
   "metadata": {
    "colab_type": "text",
    "id": "MENMXKDhy1WU"
   },
   "source": [
    "# Uplaod dataset to Google Drive"
   ]
  },
  {
   "cell_type": "code",
   "execution_count": 57,
   "metadata": {
    "colab": {
     "base_uri": "https://localhost:8080/",
     "height": 34
    },
    "colab_type": "code",
    "executionInfo": {
     "elapsed": 511,
     "status": "ok",
     "timestamp": 1568031057528,
     "user": {
      "displayName": "Francisco Javier Abellán Abenza",
      "photoUrl": "https://lh3.googleusercontent.com/a-/AAuE7mBXDJhrhy5v46WYA3pQx0xPCOndKhLnmA-PO0M_TQ=s64",
      "userId": "17171142240935309436"
     },
     "user_tz": -120
    },
    "id": "tUZdDAF9zXM5",
    "outputId": "f86322aa-fabc-454c-c9d1-6ea99a7a033d"
   },
   "outputs": [
    {
     "name": "stdout",
     "output_type": "stream",
     "text": [
      "drive/My\\ Drive/Notebooks/Datasets/dataset_from_Google/\n"
     ]
    }
   ],
   "source": [
    "name              = \"dataset_from_Google\"                                     # Change the dataset name\n",
    "drive_root_folder = \"drive/My\\\\ Drive\"\n",
    "dataset_in_drive  = drive_root_folder + \"/Notebooks/Datasets/\" + name +\"/\"    # Change the datset location\n",
    "print(dataset_in_drive)"
   ]
  },
  {
   "cell_type": "code",
   "execution_count": 0,
   "metadata": {
    "colab": {},
    "colab_type": "code",
    "id": "48ch1h3xznw4"
   },
   "outputs": [],
   "source": [
    "!cp -r dataset $dataset_in_drive"
   ]
  }
 ],
 "metadata": {
  "colab": {
   "collapsed_sections": [],
   "name": "Create_dataset_Google.ipynb",
   "provenance": [],
   "toc_visible": true,
   "version": "0.3.2"
  },
  "kernelspec": {
   "display_name": "Python 3",
   "language": "python",
   "name": "python3"
  },
  "language_info": {
   "codemirror_mode": {
    "name": "ipython",
    "version": 3
   },
   "file_extension": ".py",
   "mimetype": "text/x-python",
   "name": "python",
   "nbconvert_exporter": "python",
   "pygments_lexer": "ipython3",
   "version": "3.7.3"
  }
 },
 "nbformat": 4,
 "nbformat_minor": 1
}
